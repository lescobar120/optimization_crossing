{
 "cells": [
  {
   "cell_type": "code",
   "execution_count": null,
   "metadata": {},
   "outputs": [],
   "source": [
    "%load_ext autoreload\n",
    "%autoreload 2"
   ]
  },
  {
   "cell_type": "code",
   "execution_count": null,
   "metadata": {},
   "outputs": [],
   "source": [
    "import pandas as pd\n",
    "from pathlib import Path\n",
    "from __future__ import annotations\n",
    "from typing import Dict, Union, Iterable\n",
    "import csv\n",
    "import IPython.display as idisp\n",
    "import ipywidgets as ipw\n",
    "import plotly.graph_objects as go"
   ]
  },
  {
   "cell_type": "code",
   "execution_count": null,
   "metadata": {},
   "outputs": [],
   "source": [
    "# from core.orchestrator import OptimizationOrchestrator, OptimizationOrchestrator\n",
    "# from analytics.crossing_engine import PortfolioCrossingEngine, CrossingEngineConfig\n",
    "# from bloomberg_sftp import BloombergSFTP, set_logger, ftp_retry_decorator\n",
    "\n",
    "# from core.portfolio_configs import PORTFOLIO_CONFIGS, PortfolioConfigManager, PortfolioConfig\n",
    "# from optimization.request_builder import PortfolioOptimizerRequestBuilder\n",
    "# from data.updated_report_handler import ReportHandler\n",
    "# from config.updated_api_config import AUTH_CONFIG_PATH\n",
    "# from data.holdings_processor import HoldingsDataProcessor\n",
    "# from optimization.matcher import SecurityReplacementMatcher\n",
    "# from optimization.constraint_builder import ReplacementConstraintBuilder\n",
    "# from core.optimization_workflow import build_optimization_request, get_optimization_response\n",
    "\n",
    "# from analytics.portfolio_analytics_engine import PortfolioAnalyticsEngine\n",
    "# from analytics.crossing_engine import CrossingEngineConfig, PortfolioCrossingEngine\n",
    "\n",
    "# from ui.portfolio_config_ui import PortfolioConfigUI, create_portfolio_config_ui, create_portfolio_config_ui_with_execution\n",
    "# from ui.optimization_results_ui import OptimizationResultsUI, create_optimization_results_ui, create_analysis_results_for_batch\n",
    "# from ui.crossing_results_ui import CrossingResultsUI, create_crossing_results_ui\n",
    "# from visualization.plot_manager import PortfolioVisualizationManager\n",
    "# from visualization.crossing_visualization_manager import CrossingVisualizationManager\n",
    "# # from ui.crossing_dashboard_ui import CrossingDashboardUI, create_crossing_dashboard\n",
    "# from visualization.dashboard_manager import UnifiedDashboardManager, create_crossing_dashboard, create_portfolio_dashboard, create_mixed_dashboard\n",
    "from ui.fixed_integrated_workflow_ui import create_fixed_integrated_comprehensive_workflow_ui"
   ]
  },
  {
   "cell_type": "code",
   "execution_count": null,
   "metadata": {},
   "outputs": [],
   "source": [
    "# # Setup\n",
    "# report_handler = ReportHandler(AUTH_CONFIG_PATH)\n",
    "# config_manager = PortfolioConfigManager(PORTFOLIO_CONFIGS)\n",
    "# builder = PortfolioOptimizerRequestBuilder(\n",
    "#     template_path='portfolio_optimization_template.yml',\n",
    "#     config_manager=config_manager\n",
    "# )\n",
    "\n",
    "# # Inject restrictions\n",
    "# PORTFOLIO_RESTRICTIONS = {\n",
    "#     \"S-17147\": None,\n",
    "#     \"P-93050\": ['EQ0010054600001000', 'EQ0000000026033823'],\n",
    "#     \"P-61230\": None,\n",
    "#     \"P-47227\": None,\n",
    "#     \"P-36182\": None\n",
    "# }\n",
    "# config_manager.inject_restrictions(PORTFOLIO_RESTRICTIONS)\n",
    "\n",
    "# # Initialize orchestrator\n",
    "# orchestrator = OptimizationOrchestrator(\n",
    "#     report_handler,\n",
    "#     config_manager,\n",
    "#     # updated_config_manager,\n",
    "#     builder\n",
    "# )\n",
    "\n",
    "# # Initialize crossing engine\n",
    "# priority_list = [\"S17147\", \"P36182\", \"P47227\", \"P93050\", \"P-61230\"]\n",
    "# config = CrossingEngineConfig(portfolio_priority=priority_list)\n",
    "# crossing_engine = PortfolioCrossingEngine(config)"
   ]
  },
  {
   "cell_type": "code",
   "execution_count": null,
   "metadata": {},
   "outputs": [],
   "source": [
    "# Create the fixed workflow UI\n",
    "workflow_ui = create_fixed_integrated_comprehensive_workflow_ui()"
   ]
  },
  {
   "cell_type": "code",
   "execution_count": null,
   "metadata": {},
   "outputs": [],
   "source": []
  },
  {
   "cell_type": "code",
   "execution_count": null,
   "metadata": {},
   "outputs": [],
   "source": []
  },
  {
   "cell_type": "code",
   "execution_count": null,
   "metadata": {},
   "outputs": [],
   "source": []
  }
 ],
 "metadata": {
  "language_info": {
   "name": "python"
  }
 },
 "nbformat": 4,
 "nbformat_minor": 2
}
